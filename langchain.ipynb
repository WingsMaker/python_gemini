{
 "cells": [
  {
   "cell_type": "markdown",
   "id": "92b3b03e",
   "metadata": {},
   "source": [
    "### How to use Google’s PaLM 2 API with LangChain"
   ]
  },
  {
   "cell_type": "markdown",
   "id": "e6e36dcc",
   "metadata": {},
   "source": [
    "https://github.com/WingsMaker/python_gemini"
   ]
  },
  {
   "cell_type": "code",
   "execution_count": 1,
   "id": "7cba1e0f",
   "metadata": {},
   "outputs": [],
   "source": [
    "import pymsgbox\n",
    "import google.generativeai as palm\n",
    "import os\n",
    "from langchain.text_splitter import CharacterTextSplitter"
   ]
  },
  {
   "cell_type": "markdown",
   "id": "d652f006",
   "metadata": {},
   "source": [
    "Get your api key from https://makersuite.google.com/app/apikey"
   ]
  },
  {
   "cell_type": "code",
   "execution_count": 2,
   "id": "f061222c",
   "metadata": {},
   "outputs": [],
   "source": [
    "google_api_key = pymsgbox.prompt(\"Enter your API key\",\"see makersuite.google.com\",\"\")"
   ]
  },
  {
   "cell_type": "code",
   "execution_count": 3,
   "id": "3d0bf269",
   "metadata": {},
   "outputs": [
    {
     "name": "stdout",
     "output_type": "stream",
     "text": [
      "**Effective** means producing a desired or intended result. **Affective** means relating to, or affecting the emotions.\n",
      "\n",
      "**Examples:**\n",
      "\n",
      "* **Effective:** A teacher who is effective is able to help their students learn.\n",
      "* **Affective:** A teacher who is affective is able to connect with their students on a personal level.\n",
      "\n",
      "**Effectiveness** is often measured by results, while **affect** is often measured by feelings.\n",
      "\n",
      "**Examples:**\n",
      "\n",
      "* **Effectiveness:** A company that is effective is able to make a profit.\n",
      "* **Affect:** A company that is affective is able to create a positive work environment.\n",
      "\n",
      "**Effectiveness** and **affect** are both important for success, but they are not the same thing. A person or thing can be effective without being affective, and vice versa.\n",
      "\n",
      "**Example:**\n",
      "\n",
      "* A teacher who is effective may not be affective, if they are able to help their students learn but do not connect with them on a personal level.\n",
      "* A teacher who is affective may not be effective, if they are able to connect with their students but are not able to help them learn.\n",
      "\n",
      "It is important to consider both effectiveness and affect when making decisions, as both can contribute to success.\n"
     ]
    }
   ],
   "source": [
    "palm.configure(api_key=google_api_key)\n",
    "\n",
    "prompt = 'Explain the difference between effective and affective with examples'\n",
    "\n",
    "completion = palm.generate_text(\n",
    "    model='models/text-bison-001',\n",
    "    prompt=prompt,\n",
    "    temperature=0.1\n",
    ")\n",
    "\n",
    "print(completion.result)"
   ]
  },
  {
   "cell_type": "code",
   "execution_count": null,
   "id": "725e54aa",
   "metadata": {},
   "outputs": [],
   "source": []
  },
  {
   "cell_type": "raw",
   "id": "a5f981e5",
   "metadata": {},
   "source": [
    "Question and Answering Application\n",
    "Let's try to use the text generation API to create a Q & A system. Input your own custom data below to create a simple question and answering example. You will still use the dot product as a metric of similarity."
   ]
  },
  {
   "cell_type": "code",
   "execution_count": 4,
   "id": "efcb11d6",
   "metadata": {},
   "outputs": [],
   "source": [
    "import PyPDF2\n",
    "import textwrap\n",
    "\n",
    "pdfFileObj = open('aws.pdf', 'rb')\n",
    "pdfReader = PyPDF2.PdfReader(pdfFileObj)\n",
    "documents = pdfReader.pages\n",
    "\n",
    "#Convert the content into raw text.\n",
    "raw_text = ''\n",
    "for i, doc in enumerate(documents):\n",
    "    #pageObj = pdfReader.pages[0]\n",
    "    #text = doc.page_content\n",
    "    text = doc.extract_text()\n",
    "    if text:\n",
    "        raw_text += text\n",
    "        \n",
    "text_splitter = CharacterTextSplitter(        \n",
    "    separator = \"\\n\",\n",
    "    chunk_size = 200,\n",
    "    chunk_overlap  = 40,\n",
    "    length_function = len,\n",
    ")\n",
    "texts = text_splitter.split_text(raw_text)\n",
    "\n",
    "def make_prompt(query, relevant_passage):\n",
    "    escaped = relevant_passage.replace(\"'\", \"\").replace('\"', \"\").replace(\"\\n\", \" \")\n",
    "    prompt = textwrap.dedent(\"\"\"You are a helpful and informative bot that answers questions using text from the reference passage included below. \\\n",
    "    Be sure to respond in a complete sentence, being comprehensive, including all relevant background information. \\\n",
    "    However, you are talking to a non-technical audience, so be sure to break down complicated concepts and \\\n",
    "    strike a friendly and converstional tone. \\\n",
    "    If the passage is irrelevant to the answer, you may ignore it.\n",
    "    QUESTION: '{query}'\n",
    "    PASSAGE: '{relevant_passage}'\n",
    "\n",
    "    ANSWER:\n",
    "    \"\"\").format(query=query, relevant_passage=relevant_passage)\n",
    "\n",
    "    return prompt"
   ]
  },
  {
   "cell_type": "code",
   "execution_count": 5,
   "id": "4aae4b75",
   "metadata": {},
   "outputs": [],
   "source": [
    "query = \"what are the types of questions on the exam\"\n",
    "prompt = make_prompt(query, raw_text)"
   ]
  },
  {
   "cell_type": "code",
   "execution_count": 6,
   "id": "8ec06480",
   "metadata": {},
   "outputs": [],
   "source": [
    "model = palm.GenerativeModel('gemini-pro')"
   ]
  },
  {
   "cell_type": "code",
   "execution_count": 7,
   "id": "16a9ea8f",
   "metadata": {},
   "outputs": [],
   "source": [
    "answer = model.generate_content(prompt)"
   ]
  },
  {
   "cell_type": "code",
   "execution_count": 8,
   "id": "f4728a09",
   "metadata": {},
   "outputs": [
    {
     "name": "stdout",
     "output_type": "stream",
     "text": [
      "Sure, I'd be happy to answer that. There are two kinds of questions on the AWS Certified Machine Learning - Speciality (MLS-C01) exam: multiple choice and multiple response. Both types of questions consist of one correct response and three or more incorrect responses (distractors). Multiple choice questions allow for only one correct response, while multiple response questions allow for two or more correct responses.\n"
     ]
    }
   ],
   "source": [
    "print(answer.text)"
   ]
  },
  {
   "cell_type": "code",
   "execution_count": null,
   "id": "02ce003f",
   "metadata": {},
   "outputs": [],
   "source": []
  },
  {
   "cell_type": "code",
   "execution_count": null,
   "id": "efb63b7b",
   "metadata": {},
   "outputs": [],
   "source": []
  },
  {
   "cell_type": "code",
   "execution_count": null,
   "id": "1272e7f4",
   "metadata": {},
   "outputs": [],
   "source": []
  }
 ],
 "metadata": {
  "kernelspec": {
   "display_name": "Python 3 (ipykernel)",
   "language": "python",
   "name": "python3"
  },
  "language_info": {
   "codemirror_mode": {
    "name": "ipython",
    "version": 3
   },
   "file_extension": ".py",
   "mimetype": "text/x-python",
   "name": "python",
   "nbconvert_exporter": "python",
   "pygments_lexer": "ipython3",
   "version": "3.11.5"
  }
 },
 "nbformat": 4,
 "nbformat_minor": 5
}
